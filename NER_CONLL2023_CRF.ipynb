{
 "cells": [
  {
   "cell_type": "code",
   "execution_count": 155,
   "id": "f84c8f80-2566-4dca-bea6-9b527b7f223e",
   "metadata": {},
   "outputs": [],
   "source": [
    "# Import packages\n",
    "import scipy\n",
    "import sklearn_crfsuite\n",
    "from sklearn_crfsuite import CRF\n",
    "from sklearn_crfsuite.metrics import flat_classification_report, flat_f1_score\n",
    "from sklearn.model_selection import train_test_split, GridSearchCV\n",
    "from sklearn.metrics import make_scorer"
   ]
  },
  {
   "cell_type": "code",
   "execution_count": 156,
   "id": "d3346fcc-a7a6-42cc-8a91-0ed455069ff2",
   "metadata": {},
   "outputs": [],
   "source": [
    "# Preprocess the dataset\n",
    "def load_sentences(filepath):\n",
    "    final = []\n",
    "    sentences = []\n",
    "    with open(filepath, 'r') as f:\n",
    "        for line in f.readlines():\n",
    "            if (line == ('-DOCSTART- -X- -X- O\\n') or line == '\\n'):\n",
    "                if len(sentences) > 0:\n",
    "                    final.append(sentences)\n",
    "                    sentences = []\n",
    "            else:\n",
    "                word, pos, chunk, ner = line.strip().split()\n",
    "                sentences.append((word, pos, chunk, ner))\n",
    "    return final"
   ]
  },
  {
   "cell_type": "code",
   "execution_count": 157,
   "id": "c4d6ddef-75e2-4619-a439-bd8cdeb0f79b",
   "metadata": {},
   "outputs": [],
   "source": [
    "# Load the CoNLL2003 dataset\n",
    "train_data = list(load_sentences('train.txt'))\n",
    "test_data = list(load_sentences('test.txt'))"
   ]
  },
  {
   "cell_type": "code",
   "execution_count": 158,
   "id": "6803b1a3-8102-44ca-a6b9-68055667528a",
   "metadata": {},
   "outputs": [],
   "source": [
    "# Define the feature extraction function\n",
    "def word2features(sentence, i):\n",
    "    word = sentence[i][0]\n",
    "    pos = sentence[i][1]\n",
    "    chunk = sentence[i][2]\n",
    "    \n",
    "    features = {\n",
    "        'bias': 1.0,\n",
    "        'word.lower()': word.lower(),\n",
    "        'word[-3:]': word[-3:],\n",
    "        'word[-2:]': word[-2:],\n",
    "        'word.isupper()': word.isupper(),\n",
    "        'word.istitle()': word.istitle(),\n",
    "        'word.isdigit()': word.isdigit(),\n",
    "        'pos': pos,\n",
    "        'chunk': chunk,\n",
    "    }\n",
    "    \n",
    "    if i > 0:\n",
    "        prev_word = sentence[i-1][0]\n",
    "        prev_pos = sentence[i-1][1]\n",
    "        prev_chunk = sentence[i-1][2]\n",
    "        features.update({\n",
    "            'prev_word.lower()': prev_word.lower(),\n",
    "            'prev_word.istitle()': prev_word.istitle(),\n",
    "            'prev_pos': prev_pos,\n",
    "            'prev_chunk': prev_chunk,\n",
    "        })\n",
    "    else:\n",
    "        features['BOS'] = True\n",
    "    \n",
    "    if i < len(sentence)-1:\n",
    "        next_word = sentence[i+1][0]\n",
    "        next_pos = sentence[i+1][1]\n",
    "        next_chunk = sentence[i+1][2]\n",
    "        features.update({\n",
    "            'next_word.lower()': next_word.lower(),\n",
    "            'next_word.istitle()': next_word.istitle(),\n",
    "            'next_pos': next_pos,\n",
    "            'next_chunk': next_chunk,\n",
    "        })\n",
    "    else:\n",
    "        features['EOS'] = True\n",
    "        \n",
    "    return features"
   ]
  },
  {
   "cell_type": "code",
   "execution_count": 159,
   "id": "a339d7d2-fe06-411e-bada-533177c130f3",
   "metadata": {},
   "outputs": [],
   "source": [
    "# Define the feature extraction function for the entire sentence\n",
    "def sent2features(sentence):\n",
    "    return [word2features(sentence, i) for i in range(len(sentence))]\n"
   ]
  },
  {
   "cell_type": "code",
   "execution_count": 160,
   "id": "66ee3f0b-2d12-40d1-962f-3c94dad2f3e6",
   "metadata": {},
   "outputs": [],
   "source": [
    "# Define the label extraction function for the entire sentence\n",
    "def sent2labels(sentence):\n",
    "    return [label for word, pos, chunk, label in sentence]"
   ]
  },
  {
   "cell_type": "code",
   "execution_count": 161,
   "id": "dcdc69d0-2014-437b-9516-89ac2a8ca5c4",
   "metadata": {},
   "outputs": [],
   "source": [
    "# Extract features and labels for training and testing data\n",
    "X_train = [sent2features(sentence) for sentence in train_data]\n",
    "y_train = [sent2labels(sentence) for sentence in train_data]\n",
    "X_test = [sent2features(sentence) for sentence in test_data]\n",
    "y_test = [sent2labels(sentence) for sentence in test_data]"
   ]
  },
  {
   "cell_type": "code",
   "execution_count": 162,
   "id": "3dc08b47-e781-4df5-878f-a87d3af22db1",
   "metadata": {},
   "outputs": [],
   "source": [
    "# Define the CRF model\n",
    "crf = sklearn_crfsuite.CRF(algorithm='lbfgs',\n",
    "                           c1=0.1,\n",
    "                           c2=0.1,\n",
    "                           max_iterations=100)"
   ]
  },
  {
   "cell_type": "code",
   "execution_count": 174,
   "id": "bf1c4f31-3bbb-419e-ac2d-118cd3079f6b",
   "metadata": {},
   "outputs": [],
   "source": [
    "# # Train the CRF model\n",
    "# crf.fit(X_train, y_train)\n",
    "try:\n",
    "    crf.fit(X_train, y_train)\n",
    "except AttributeError:\n",
    "    pass\n",
    "# predictions = crf.predict(X_test)"
   ]
  },
  {
   "cell_type": "code",
   "execution_count": 175,
   "id": "e702703b-ff90-4386-8079-4ceb568ce570",
   "metadata": {},
   "outputs": [],
   "source": [
    "# Make predictions on the test set\n",
    "y_pred = crf.predict(X_test)"
   ]
  },
  {
   "cell_type": "code",
   "execution_count": 176,
   "id": "b1990e30-18e0-49de-91ee-42332432e429",
   "metadata": {},
   "outputs": [
    {
     "name": "stderr",
     "output_type": "stream",
     "text": [
      "c:\\python38\\lib\\site-packages\\sklearn\\utils\\validation.py:70: FutureWarning: Pass labels=None as keyword args. From version 1.0 (renaming of 0.25) passing these as positional arguments will result in an error\n",
      "  FutureWarning)\n"
     ]
    },
    {
     "name": "stdout",
     "output_type": "stream",
     "text": [
      "F1 score:               precision    recall  f1-score   support\n",
      "\n",
      "       B-LOC      0.854     0.816     0.835      1667\n",
      "      B-MISC      0.806     0.752     0.778       701\n",
      "       B-ORG      0.770     0.722     0.745      1660\n",
      "       B-PER      0.825     0.858     0.841      1616\n",
      "       I-LOC      0.776     0.646     0.705       257\n",
      "      I-MISC      0.670     0.645     0.657       214\n",
      "       I-ORG      0.681     0.736     0.707       834\n",
      "       I-PER      0.866     0.958     0.909      1156\n",
      "           O      0.988     0.989     0.988     38289\n",
      "\n",
      "    accuracy                          0.956     46394\n",
      "   macro avg      0.804     0.791     0.796     46394\n",
      "weighted avg      0.956     0.956     0.956     46394\n",
      "\n"
     ]
    }
   ],
   "source": [
    "# Evaluate the performance of the model using the F1 score\n",
    "f1_score = flat_classification_report(y_test, y_pred, digits=3)\n",
    "print('F1 score:', f1_score)"
   ]
  },
  {
   "cell_type": "code",
   "execution_count": 177,
   "id": "923b1f32-3970-41e0-a400-32661dd5e8fe",
   "metadata": {},
   "outputs": [
    {
     "name": "stdout",
     "output_type": "stream",
     "text": [
      "Most likely transitions:\n",
      "{('B-ORG', 'B-ORG'): -1.142655, ('B-ORG', 'O'): 0.067879, ('B-ORG', 'B-MISC'): -0.866235, ('B-ORG', 'B-PER'): -1.495477, ('B-ORG', 'B-LOC'): -2.981682, ('B-ORG', 'I-ORG'): 8.176497, ('O', 'B-ORG'): 2.441686, ('O', 'O'): 3.142003, ('O', 'B-MISC'): 2.582048, ('O', 'B-PER'): 3.649068, ('O', 'B-LOC'): 1.761824, ('B-MISC', 'B-ORG'): 0.752474, ('B-MISC', 'O'): 0.55252, ('B-MISC', 'B-MISC'): -0.27661, ('B-MISC', 'B-PER'): 1.001064, ('B-MISC', 'B-LOC'): -1.016111, ('B-MISC', 'I-MISC'): 9.478986, ('B-PER', 'O'): 0.916406, ('B-PER', 'B-MISC'): -0.763408, ('B-PER', 'I-PER'): 9.472398, ('B-PER', 'B-LOC'): -0.458683, ('I-PER', 'O'): -0.055104, ('I-PER', 'I-PER'): 6.353849, ('B-LOC', 'B-ORG'): -0.335119, ('B-LOC', 'O'): 0.617937, ('B-LOC', 'B-MISC'): 0.503209, ('B-LOC', 'B-PER'): -1.465511, ('B-LOC', 'B-LOC'): -0.826935, ('B-LOC', 'I-LOC'): 7.871241, ('I-ORG', 'B-ORG'): -3.096303, ('I-ORG', 'O'): -1.133143, ('I-ORG', 'B-MISC'): -1.142506, ('I-ORG', 'B-PER'): -1.983915, ('I-ORG', 'B-LOC'): -3.567135, ('I-ORG', 'I-ORG'): 7.113207, ('I-MISC', 'B-ORG'): -0.751662, ('I-MISC', 'O'): -1.704041, ('I-MISC', 'B-MISC'): -0.798871, ('I-MISC', 'B-PER'): -1.980263, ('I-MISC', 'B-LOC'): -2.028634, ('I-MISC', 'I-MISC'): 8.297524, ('I-LOC', 'B-ORG'): -1.470813, ('I-LOC', 'O'): -0.528136, ('I-LOC', 'B-MISC'): -0.290537, ('I-LOC', 'B-LOC'): -1.31906, ('I-LOC', 'I-LOC'): 6.562361}\n"
     ]
    }
   ],
   "source": [
    "# Print the most likely transitions\n",
    "print('Most likely transitions:')\n",
    "print(crf.transition_features_)"
   ]
  },
  {
   "cell_type": "code",
   "execution_count": 178,
   "id": "fdca7258-9844-4f35-977d-d806f6971716",
   "metadata": {},
   "outputs": [],
   "source": [
    "labels = list(crf.classes_)"
   ]
  },
  {
   "cell_type": "code",
   "execution_count": 179,
   "id": "8868c697-0c2a-457e-b18b-3bd7c450f340",
   "metadata": {},
   "outputs": [],
   "source": [
    "labels.remove('O')"
   ]
  },
  {
   "cell_type": "code",
   "execution_count": 180,
   "id": "892b248e-f07b-45e4-99c7-94d1b30141f9",
   "metadata": {},
   "outputs": [
    {
     "data": {
      "text/plain": [
       "['B-ORG', 'B-MISC', 'B-PER', 'I-PER', 'B-LOC', 'I-ORG', 'I-MISC', 'I-LOC']"
      ]
     },
     "execution_count": 180,
     "metadata": {},
     "output_type": "execute_result"
    }
   ],
   "source": [
    "labels"
   ]
  },
  {
   "cell_type": "code",
   "execution_count": 181,
   "id": "a6c07094-3f8f-453f-8a49-103d78920415",
   "metadata": {},
   "outputs": [],
   "source": [
    "# Define the hyperparameter grid for tuning\n",
    "params_space = {\n",
    "    'c1': [0.5, 1, 1.5, 2, 2.5],\n",
    "    'c2': [0.05, 0.1, 0.15, 0.2]\n",
    "}"
   ]
  },
  {
   "cell_type": "code",
   "execution_count": null,
   "id": "2ca978c0-d2c2-42ff-9b6c-430ac1f73587",
   "metadata": {},
   "outputs": [],
   "source": []
  },
  {
   "cell_type": "code",
   "execution_count": 182,
   "id": "7aa63535-085f-461e-9108-25d6fcf04316",
   "metadata": {},
   "outputs": [
    {
     "name": "stdout",
     "output_type": "stream",
     "text": [
      "F1 score: 0.9556555320983782\n"
     ]
    }
   ],
   "source": [
    "# Evaluate the performance of the CRF model using the F1 score metric\n",
    "f1_score = flat_f1_score(y_test, y_pred, average=\"weighted\")\n",
    "print(\"F1 score:\", f1_score)"
   ]
  },
  {
   "cell_type": "code",
   "execution_count": 183,
   "id": "3a99dbbf-eb6c-4168-8c16-e050c1179c88",
   "metadata": {},
   "outputs": [],
   "source": [
    "# Perform grid search for hyperparameter tuning\n",
    "f1_scorer = make_scorer(flat_f1_score, average='weighted', labels=labels)\n",
    "grid = GridSearchCV(crf, params_space, cv=3, verbose=1, n_jobs=-1, scoring=f1_scorer)"
   ]
  },
  {
   "cell_type": "code",
   "execution_count": 184,
   "id": "4549ded2-e148-4ded-95e6-8f1a0a606604",
   "metadata": {},
   "outputs": [
    {
     "ename": "AttributeError",
     "evalue": "'CRF' object has no attribute 'keep_tempfiles'",
     "output_type": "error",
     "traceback": [
      "\u001b[1;31m---------------------------------------------------------------------------\u001b[0m",
      "\u001b[1;31mAttributeError\u001b[0m                            Traceback (most recent call last)",
      "\u001b[1;32m~\\AppData\\Local\\Temp/ipykernel_59936/1526620678.py\u001b[0m in \u001b[0;36m<module>\u001b[1;34m\u001b[0m\n\u001b[1;32m----> 1\u001b[1;33m \u001b[0mgrid\u001b[0m\u001b[1;33m.\u001b[0m\u001b[0mfit\u001b[0m\u001b[1;33m(\u001b[0m\u001b[0mX_train\u001b[0m\u001b[1;33m,\u001b[0m \u001b[0my_train\u001b[0m\u001b[1;33m)\u001b[0m\u001b[1;33m\u001b[0m\u001b[1;33m\u001b[0m\u001b[0m\n\u001b[0m",
      "\u001b[1;32mc:\\python38\\lib\\site-packages\\sklearn\\utils\\validation.py\u001b[0m in \u001b[0;36minner_f\u001b[1;34m(*args, **kwargs)\u001b[0m\n\u001b[0;32m     61\u001b[0m         \u001b[0mextra_args\u001b[0m \u001b[1;33m=\u001b[0m \u001b[0mlen\u001b[0m\u001b[1;33m(\u001b[0m\u001b[0margs\u001b[0m\u001b[1;33m)\u001b[0m \u001b[1;33m-\u001b[0m \u001b[0mlen\u001b[0m\u001b[1;33m(\u001b[0m\u001b[0mall_args\u001b[0m\u001b[1;33m)\u001b[0m\u001b[1;33m\u001b[0m\u001b[1;33m\u001b[0m\u001b[0m\n\u001b[0;32m     62\u001b[0m         \u001b[1;32mif\u001b[0m \u001b[0mextra_args\u001b[0m \u001b[1;33m>\u001b[0m \u001b[1;36m0\u001b[0m\u001b[1;33m:\u001b[0m\u001b[1;33m\u001b[0m\u001b[1;33m\u001b[0m\u001b[0m\n\u001b[1;32m---> 63\u001b[1;33m             \u001b[1;31m# ignore first 'self' argument for instance methods\u001b[0m\u001b[1;33m\u001b[0m\u001b[1;33m\u001b[0m\u001b[1;33m\u001b[0m\u001b[0m\n\u001b[0m\u001b[0;32m     64\u001b[0m             args_msg = ['{}={}'.format(name, arg)\n\u001b[0;32m     65\u001b[0m                         for name, arg in zip(kwonly_args[:extra_args],\n",
      "\u001b[1;32mc:\\python38\\lib\\site-packages\\sklearn\\model_selection\\_search.py\u001b[0m in \u001b[0;36mfit\u001b[1;34m(self, X, y, groups, **fit_params)\u001b[0m\n\u001b[0;32m    763\u001b[0m             \u001b[0mrefit_start_time\u001b[0m \u001b[1;33m=\u001b[0m \u001b[0mtime\u001b[0m\u001b[1;33m.\u001b[0m\u001b[0mtime\u001b[0m\u001b[1;33m(\u001b[0m\u001b[1;33m)\u001b[0m\u001b[1;33m\u001b[0m\u001b[1;33m\u001b[0m\u001b[0m\n\u001b[0;32m    764\u001b[0m             \u001b[1;32mif\u001b[0m \u001b[0my\u001b[0m \u001b[1;32mis\u001b[0m \u001b[1;32mnot\u001b[0m \u001b[1;32mNone\u001b[0m\u001b[1;33m:\u001b[0m\u001b[1;33m\u001b[0m\u001b[1;33m\u001b[0m\u001b[0m\n\u001b[1;32m--> 765\u001b[1;33m                 \u001b[0mself\u001b[0m\u001b[1;33m.\u001b[0m\u001b[0mbest_estimator_\u001b[0m\u001b[1;33m.\u001b[0m\u001b[0mfit\u001b[0m\u001b[1;33m(\u001b[0m\u001b[0mX\u001b[0m\u001b[1;33m,\u001b[0m \u001b[0my\u001b[0m\u001b[1;33m,\u001b[0m \u001b[1;33m**\u001b[0m\u001b[0mfit_params\u001b[0m\u001b[1;33m)\u001b[0m\u001b[1;33m\u001b[0m\u001b[1;33m\u001b[0m\u001b[0m\n\u001b[0m\u001b[0;32m    766\u001b[0m             \u001b[1;32melse\u001b[0m\u001b[1;33m:\u001b[0m\u001b[1;33m\u001b[0m\u001b[1;33m\u001b[0m\u001b[0m\n\u001b[0;32m    767\u001b[0m                 \u001b[0mself\u001b[0m\u001b[1;33m.\u001b[0m\u001b[0mbest_estimator_\u001b[0m\u001b[1;33m.\u001b[0m\u001b[0mfit\u001b[0m\u001b[1;33m(\u001b[0m\u001b[0mX\u001b[0m\u001b[1;33m,\u001b[0m \u001b[1;33m**\u001b[0m\u001b[0mfit_params\u001b[0m\u001b[1;33m)\u001b[0m\u001b[1;33m\u001b[0m\u001b[1;33m\u001b[0m\u001b[0m\n",
      "\u001b[1;32mc:\\python38\\lib\\site-packages\\sklearn\\utils\\validation.py\u001b[0m in \u001b[0;36minner_f\u001b[1;34m(*args, **kwargs)\u001b[0m\n\u001b[0;32m     61\u001b[0m         \u001b[0mextra_args\u001b[0m \u001b[1;33m=\u001b[0m \u001b[0mlen\u001b[0m\u001b[1;33m(\u001b[0m\u001b[0margs\u001b[0m\u001b[1;33m)\u001b[0m \u001b[1;33m-\u001b[0m \u001b[0mlen\u001b[0m\u001b[1;33m(\u001b[0m\u001b[0mall_args\u001b[0m\u001b[1;33m)\u001b[0m\u001b[1;33m\u001b[0m\u001b[1;33m\u001b[0m\u001b[0m\n\u001b[0;32m     62\u001b[0m         \u001b[1;32mif\u001b[0m \u001b[0mextra_args\u001b[0m \u001b[1;33m>\u001b[0m \u001b[1;36m0\u001b[0m\u001b[1;33m:\u001b[0m\u001b[1;33m\u001b[0m\u001b[1;33m\u001b[0m\u001b[0m\n\u001b[1;32m---> 63\u001b[1;33m             \u001b[1;31m# ignore first 'self' argument for instance methods\u001b[0m\u001b[1;33m\u001b[0m\u001b[1;33m\u001b[0m\u001b[1;33m\u001b[0m\u001b[0m\n\u001b[0m\u001b[0;32m     64\u001b[0m             args_msg = ['{}={}'.format(name, arg)\n\u001b[0;32m     65\u001b[0m                         for name, arg in zip(kwonly_args[:extra_args],\n",
      "\u001b[1;32mc:\\python38\\lib\\site-packages\\sklearn\\base.py\u001b[0m in \u001b[0;36mclone\u001b[1;34m(estimator, safe)\u001b[0m\n\u001b[0;32m     72\u001b[0m         \u001b[1;32melse\u001b[0m\u001b[1;33m:\u001b[0m\u001b[1;33m\u001b[0m\u001b[1;33m\u001b[0m\u001b[0m\n\u001b[0;32m     73\u001b[0m             \u001b[1;32mif\u001b[0m \u001b[0misinstance\u001b[0m\u001b[1;33m(\u001b[0m\u001b[0mestimator\u001b[0m\u001b[1;33m,\u001b[0m \u001b[0mtype\u001b[0m\u001b[1;33m)\u001b[0m\u001b[1;33m:\u001b[0m\u001b[1;33m\u001b[0m\u001b[1;33m\u001b[0m\u001b[0m\n\u001b[1;32m---> 74\u001b[1;33m                 raise TypeError(\"Cannot clone object. \" +\n\u001b[0m\u001b[0;32m     75\u001b[0m                                 \u001b[1;34m\"You should provide an instance of \"\u001b[0m \u001b[1;33m+\u001b[0m\u001b[1;33m\u001b[0m\u001b[1;33m\u001b[0m\u001b[0m\n\u001b[0;32m     76\u001b[0m                                 \"scikit-learn estimator instead of a class.\")\n",
      "\u001b[1;32mc:\\python38\\lib\\site-packages\\sklearn\\base.py\u001b[0m in \u001b[0;36mget_params\u001b[1;34m(self, deep)\u001b[0m\n\u001b[0;32m    193\u001b[0m         \u001b[0mParameters\u001b[0m\u001b[1;33m\u001b[0m\u001b[1;33m\u001b[0m\u001b[0m\n\u001b[0;32m    194\u001b[0m         \u001b[1;33m-\u001b[0m\u001b[1;33m-\u001b[0m\u001b[1;33m-\u001b[0m\u001b[1;33m-\u001b[0m\u001b[1;33m-\u001b[0m\u001b[1;33m-\u001b[0m\u001b[1;33m-\u001b[0m\u001b[1;33m-\u001b[0m\u001b[1;33m-\u001b[0m\u001b[1;33m-\u001b[0m\u001b[1;33m\u001b[0m\u001b[1;33m\u001b[0m\u001b[0m\n\u001b[1;32m--> 195\u001b[1;33m         \u001b[0mdeep\u001b[0m \u001b[1;33m:\u001b[0m \u001b[0mbool\u001b[0m\u001b[1;33m,\u001b[0m \u001b[0mdefault\u001b[0m\u001b[1;33m=\u001b[0m\u001b[1;32mTrue\u001b[0m\u001b[1;33m\u001b[0m\u001b[1;33m\u001b[0m\u001b[0m\n\u001b[0m\u001b[0;32m    196\u001b[0m             \u001b[0mIf\u001b[0m \u001b[1;32mTrue\u001b[0m\u001b[1;33m,\u001b[0m \u001b[0mwill\u001b[0m \u001b[1;32mreturn\u001b[0m \u001b[0mthe\u001b[0m \u001b[0mparameters\u001b[0m \u001b[1;32mfor\u001b[0m \u001b[0mthis\u001b[0m \u001b[0mestimator\u001b[0m \u001b[1;32mand\u001b[0m\u001b[1;33m\u001b[0m\u001b[1;33m\u001b[0m\u001b[0m\n\u001b[0;32m    197\u001b[0m             \u001b[0mcontained\u001b[0m \u001b[0msubobjects\u001b[0m \u001b[0mthat\u001b[0m \u001b[0mare\u001b[0m \u001b[0mestimators\u001b[0m\u001b[1;33m.\u001b[0m\u001b[1;33m\u001b[0m\u001b[1;33m\u001b[0m\u001b[0m\n",
      "\u001b[1;31mAttributeError\u001b[0m: 'CRF' object has no attribute 'keep_tempfiles'"
     ]
    }
   ],
   "source": [
    "grid.fit(X_train, y_train)"
   ]
  },
  {
   "cell_type": "code",
   "execution_count": null,
   "id": "8b5f0191-4ba4-4cc2-9f3a-fab0249ba52e",
   "metadata": {},
   "outputs": [],
   "source": [
    "# Print the best hyperparameters\n",
    "print('Best parameters:', grid.best_params_)\n",
    "print('best CV score:', grid.best_score_)"
   ]
  },
  {
   "cell_type": "code",
   "execution_count": null,
   "id": "9ec80a29-f2e5-4743-a906-e21171b46826",
   "metadata": {},
   "outputs": [],
   "source": []
  },
  {
   "cell_type": "code",
   "execution_count": null,
   "id": "6418ff7a-b41e-4bd8-831e-d2b382d70759",
   "metadata": {},
   "outputs": [],
   "source": []
  }
 ],
 "metadata": {
  "kernelspec": {
   "display_name": "Python 3 (ipykernel)",
   "language": "python",
   "name": "python3"
  },
  "language_info": {
   "codemirror_mode": {
    "name": "ipython",
    "version": 3
   },
   "file_extension": ".py",
   "mimetype": "text/x-python",
   "name": "python",
   "nbconvert_exporter": "python",
   "pygments_lexer": "ipython3",
   "version": "3.8.3"
  }
 },
 "nbformat": 4,
 "nbformat_minor": 5
}
